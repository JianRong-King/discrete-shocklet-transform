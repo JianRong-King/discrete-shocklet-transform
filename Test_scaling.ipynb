{
 "cells": [
  {
   "cell_type": "code",
   "execution_count": 1,
   "metadata": {},
   "outputs": [
    {
     "name": "stdout",
     "output_type": "stream",
     "text": [
      "Scaled (discretized) data sample:\n",
      "[375 951 732 599 156 156  58 866 601 708]\n",
      "\n",
      "Reconstructed continuous data sample:\n",
      "[-1.25  4.51  2.32  0.99 -3.44 -3.44 -4.42  3.66  1.01  2.08]\n",
      "\n",
      "MSE: 0.000009\n",
      "MAE: 0.002581\n"
     ]
    }
   ],
   "source": [
    "import numpy as np\n",
    "from sklearn.metrics import mean_squared_error, mean_absolute_error\n",
    "\n",
    "# Example continuous data (for instance, a single feature time series)\n",
    "np.random.seed(42)\n",
    "data = np.random.uniform(-5, 5, 175)  # Example: 175 time steps\n",
    "\n",
    "# Define the min and max values (in your case, known)\n",
    "data_min, data_max = -5, 5\n",
    "\n",
    "# Choose a scale factor: Higher values yield finer discretization.\n",
    "scale_factor = 1000\n",
    "\n",
    "\n",
    "# Use min–max scaling to map the data to integers between 0 and scale_factor.\n",
    "scaled_data = np.round((data - data_min) / (data_max - data_min) * scale_factor).astype(int)\n",
    "\n",
    "# Display a sample of the scaled data\n",
    "print(\"Scaled (discretized) data sample:\")\n",
    "print(scaled_data[:10])\n",
    "\n",
    "\n",
    "def simulated_dst(x):\n",
    "    # A placeholder for your DST (Discrete Shocklet Transform)\n",
    "    # In practice, you'd use shocklets.cusplet or a similar function.\n",
    "    return x\n",
    "\n",
    "def simulated_inverse_dst(x):\n",
    "    # Placeholder for the inverse transformation.\n",
    "    return x\n",
    "\n",
    "# Apply simulated DST and then the inverse transform\n",
    "dst_transformed = simulated_dst(scaled_data)\n",
    "reconstructed_scaled = simulated_inverse_dst(dst_transformed)\n",
    "\n",
    "# --- Step 2: Invert the Scaling (Rescale Back to the Original Range) ---\n",
    "reconstructed_data = (reconstructed_scaled / scale_factor) * (data_max - data_min) + data_min\n",
    "\n",
    "# Display a sample of the reconstructed continuous data\n",
    "print(\"\\nReconstructed continuous data sample:\")\n",
    "print(reconstructed_data[:10])\n",
    "\n",
    "# --- Error Metrics ---\n",
    "mse = mean_squared_error(data, reconstructed_data)\n",
    "mae = mean_absolute_error(data, reconstructed_data)\n",
    "print(f\"\\nMSE: {mse:.6f}\")\n",
    "print(f\"MAE: {mae:.6f}\")\n"
   ]
  }
 ],
 "metadata": {
  "kernelspec": {
   "display_name": "env1",
   "language": "python",
   "name": "python3"
  },
  "language_info": {
   "codemirror_mode": {
    "name": "ipython",
    "version": 3
   },
   "file_extension": ".py",
   "mimetype": "text/x-python",
   "name": "python",
   "nbconvert_exporter": "python",
   "pygments_lexer": "ipython3",
   "version": "3.12.8"
  }
 },
 "nbformat": 4,
 "nbformat_minor": 2
}
